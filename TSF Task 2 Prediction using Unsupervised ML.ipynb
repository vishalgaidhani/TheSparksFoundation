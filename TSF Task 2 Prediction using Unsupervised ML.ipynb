{
 "cells": [
  {
   "cell_type": "markdown",
   "id": "401ac11d",
   "metadata": {},
   "source": [
    "\n",
    "# Prediction using Unsupervised ML"
   ]
  },
  {
   "cell_type": "markdown",
   "id": "55956f7a",
   "metadata": {},
   "source": [
    "## importing libraries"
   ]
  },
  {
   "cell_type": "code",
   "execution_count": 1,
   "id": "fa7ff180",
   "metadata": {},
   "outputs": [],
   "source": [
    "import pandas as pd \n",
    "import numpy as np \n",
    "import matplotlib.pyplot as plt\n",
    "\n",
    "import warnings\n",
    "warnings.filterwarnings(\"ignore\")"
   ]
  },
  {
   "cell_type": "code",
   "execution_count": 2,
   "id": "40882aad",
   "metadata": {
    "scrolled": true
   },
   "outputs": [
    {
     "data": {
      "text/html": [
       "<div>\n",
       "<style scoped>\n",
       "    .dataframe tbody tr th:only-of-type {\n",
       "        vertical-align: middle;\n",
       "    }\n",
       "\n",
       "    .dataframe tbody tr th {\n",
       "        vertical-align: top;\n",
       "    }\n",
       "\n",
       "    .dataframe thead th {\n",
       "        text-align: right;\n",
       "    }\n",
       "</style>\n",
       "<table border=\"1\" class=\"dataframe\">\n",
       "  <thead>\n",
       "    <tr style=\"text-align: right;\">\n",
       "      <th></th>\n",
       "      <th>Id</th>\n",
       "      <th>SepalLengthCm</th>\n",
       "      <th>SepalWidthCm</th>\n",
       "      <th>PetalLengthCm</th>\n",
       "      <th>PetalWidthCm</th>\n",
       "      <th>Species</th>\n",
       "    </tr>\n",
       "  </thead>\n",
       "  <tbody>\n",
       "    <tr>\n",
       "      <th>0</th>\n",
       "      <td>1</td>\n",
       "      <td>5.1</td>\n",
       "      <td>3.5</td>\n",
       "      <td>1.4</td>\n",
       "      <td>0.2</td>\n",
       "      <td>Iris-setosa</td>\n",
       "    </tr>\n",
       "    <tr>\n",
       "      <th>1</th>\n",
       "      <td>2</td>\n",
       "      <td>4.9</td>\n",
       "      <td>3.0</td>\n",
       "      <td>1.4</td>\n",
       "      <td>0.2</td>\n",
       "      <td>Iris-setosa</td>\n",
       "    </tr>\n",
       "    <tr>\n",
       "      <th>2</th>\n",
       "      <td>3</td>\n",
       "      <td>4.7</td>\n",
       "      <td>3.2</td>\n",
       "      <td>1.3</td>\n",
       "      <td>0.2</td>\n",
       "      <td>Iris-setosa</td>\n",
       "    </tr>\n",
       "    <tr>\n",
       "      <th>3</th>\n",
       "      <td>4</td>\n",
       "      <td>4.6</td>\n",
       "      <td>3.1</td>\n",
       "      <td>1.5</td>\n",
       "      <td>0.2</td>\n",
       "      <td>Iris-setosa</td>\n",
       "    </tr>\n",
       "    <tr>\n",
       "      <th>4</th>\n",
       "      <td>5</td>\n",
       "      <td>5.0</td>\n",
       "      <td>3.6</td>\n",
       "      <td>1.4</td>\n",
       "      <td>0.2</td>\n",
       "      <td>Iris-setosa</td>\n",
       "    </tr>\n",
       "  </tbody>\n",
       "</table>\n",
       "</div>"
      ],
      "text/plain": [
       "   Id  SepalLengthCm  SepalWidthCm  PetalLengthCm  PetalWidthCm      Species\n",
       "0   1            5.1           3.5            1.4           0.2  Iris-setosa\n",
       "1   2            4.9           3.0            1.4           0.2  Iris-setosa\n",
       "2   3            4.7           3.2            1.3           0.2  Iris-setosa\n",
       "3   4            4.6           3.1            1.5           0.2  Iris-setosa\n",
       "4   5            5.0           3.6            1.4           0.2  Iris-setosa"
      ]
     },
     "execution_count": 2,
     "metadata": {},
     "output_type": "execute_result"
    }
   ],
   "source": [
    "df = pd.read_csv(r\"C:\\Users\\Sagar\\Downloads\\Iris task 2.csv\")\n",
    "df.head()"
   ]
  },
  {
   "cell_type": "code",
   "execution_count": 3,
   "id": "f6e44065",
   "metadata": {},
   "outputs": [
    {
     "data": {
      "text/plain": [
       "Iris-setosa        50\n",
       "Iris-versicolor    50\n",
       "Iris-virginica     50\n",
       "Name: Species, dtype: int64"
      ]
     },
     "execution_count": 3,
     "metadata": {},
     "output_type": "execute_result"
    }
   ],
   "source": [
    "df.Species.value_counts()"
   ]
  },
  {
   "cell_type": "code",
   "execution_count": 4,
   "id": "3cb9fd88",
   "metadata": {},
   "outputs": [],
   "source": [
    "df_copy = df"
   ]
  },
  {
   "cell_type": "markdown",
   "id": "0308d4f4",
   "metadata": {},
   "source": [
    "## EDA"
   ]
  },
  {
   "cell_type": "code",
   "execution_count": 5,
   "id": "581bea9f",
   "metadata": {},
   "outputs": [],
   "source": [
    "df = df.drop(['Id','Species'],axis=1)"
   ]
  },
  {
   "cell_type": "markdown",
   "id": "bd796829",
   "metadata": {},
   "source": [
    "### Missing/Null Values"
   ]
  },
  {
   "cell_type": "code",
   "execution_count": 6,
   "id": "b16cf2df",
   "metadata": {
    "scrolled": true
   },
   "outputs": [
    {
     "data": {
      "text/plain": [
       "SepalLengthCm    0\n",
       "SepalWidthCm     0\n",
       "PetalLengthCm    0\n",
       "PetalWidthCm     0\n",
       "dtype: int64"
      ]
     },
     "execution_count": 6,
     "metadata": {},
     "output_type": "execute_result"
    }
   ],
   "source": [
    "df.isna().sum()"
   ]
  },
  {
   "cell_type": "markdown",
   "id": "f6e1e28c",
   "metadata": {},
   "source": [
    "### Checking Outliers"
   ]
  },
  {
   "cell_type": "code",
   "execution_count": 7,
   "id": "1763e762",
   "metadata": {
    "scrolled": false
   },
   "outputs": [
    {
     "data": {
      "text/plain": [
       "<Axes: >"
      ]
     },
     "execution_count": 7,
     "metadata": {},
     "output_type": "execute_result"
    },
    {
     "data": {
      "image/png": "[encoded data removed]",
      "text/plain": [
       "<Figure size 640x480 with 1 Axes>"
      ]
     },
     "metadata": {},
     "output_type": "display_data"
    }
   ],
   "source": [
    "import seaborn as sns\n",
    "sns.boxplot(data=df)"
   ]
  },
  {
   "cell_type": "markdown",
   "id": "533947e4",
   "metadata": {},
   "source": [
    "### Remoing Outliers using Winzorising Technique"
   ]
  },
  {
   "cell_type": "code",
   "execution_count": 8,
   "id": "1870aea2",
   "metadata": {},
   "outputs": [],
   "source": [
    "for i in df:                  # i = column name \n",
    "    if df[i].dtypes in (\"float64\",\"int64\"): # df[i] = every column will select float & int column only\n",
    "        q1 = df[i].quantile(0.25)  # for 1 column compute q1\n",
    "        q3 = df[i].quantile(0.75)  # for 1 column compute q3\n",
    "        iqr = q3-q1  # for 1 column compute IQR\n",
    "        ul = q3 + 1.5*iqr # for 1 column compute UPPER LIMIT\n",
    "        ll = q1 - 1.5*iqr # for 1 column compute LOWER LIMIT \n",
    "        df[i].clip(upper=ul,lower=ll,inplace=True)\n",
    "        "
   ]
  },
  {
   "cell_type": "code",
   "execution_count": 9,
   "id": "15606c95",
   "metadata": {},
   "outputs": [
    {
     "data": {
      "text/plain": [
       "<Axes: >"
      ]
     },
     "execution_count": 9,
     "metadata": {},
     "output_type": "execute_result"
    },
    {
     "data": {
      "image/png": "[encoded data removed]",
      "text/plain": [
       "<Figure size 640x480 with 1 Axes>"
      ]
     },
     "metadata": {},
     "output_type": "display_data"
    }
   ],
   "source": [
    "import seaborn as sns\n",
    "sns.boxplot(data=df)"
   ]
  },
  {
   "cell_type": "markdown",
   "id": "319f9519",
   "metadata": {},
   "source": [
    "* outliers removed"
   ]
  },
  {
   "cell_type": "code",
   "execution_count": 10,
   "id": "c10b8376",
   "metadata": {},
   "outputs": [
    {
     "name": "stdout",
     "output_type": "stream",
     "text": [
      "<class 'pandas.core.frame.DataFrame'>\n",
      "RangeIndex: 150 entries, 0 to 149\n",
      "Data columns (total 4 columns):\n",
      " #   Column         Non-Null Count  Dtype  \n",
      "---  ------         --------------  -----  \n",
      " 0   SepalLengthCm  150 non-null    float64\n",
      " 1   SepalWidthCm   150 non-null    float64\n",
      " 2   PetalLengthCm  150 non-null    float64\n",
      " 3   PetalWidthCm   150 non-null    float64\n",
      "dtypes: float64(4)\n",
      "memory usage: 4.8 KB\n"
     ]
    }
   ],
   "source": [
    "df.info()"
   ]
  },
  {
   "cell_type": "code",
   "execution_count": 11,
   "id": "54c44e56",
   "metadata": {},
   "outputs": [
    {
     "data": {
      "text/plain": [
       "Index(['SepalLengthCm', 'SepalWidthCm', 'PetalLengthCm', 'PetalWidthCm'], dtype='object')"
      ]
     },
     "execution_count": 11,
     "metadata": {},
     "output_type": "execute_result"
    }
   ],
   "source": [
    "df.columns"
   ]
  },
  {
   "cell_type": "code",
   "execution_count": 12,
   "id": "4eccef68",
   "metadata": {},
   "outputs": [
    {
     "data": {
      "text/html": [
       "<div>\n",
       "<style scoped>\n",
       "    .dataframe tbody tr th:only-of-type {\n",
       "        vertical-align: middle;\n",
       "    }\n",
       "\n",
       "    .dataframe tbody tr th {\n",
       "        vertical-align: top;\n",
       "    }\n",
       "\n",
       "    .dataframe thead th {\n",
       "        text-align: right;\n",
       "    }\n",
       "</style>\n",
       "<table border=\"1\" class=\"dataframe\">\n",
       "  <thead>\n",
       "    <tr style=\"text-align: right;\">\n",
       "      <th></th>\n",
       "      <th>SepalLengthCm</th>\n",
       "      <th>SepalWidthCm</th>\n",
       "      <th>PetalLengthCm</th>\n",
       "      <th>PetalWidthCm</th>\n",
       "    </tr>\n",
       "  </thead>\n",
       "  <tbody>\n",
       "    <tr>\n",
       "      <th>0</th>\n",
       "      <td>5.1</td>\n",
       "      <td>3.5</td>\n",
       "      <td>1.4</td>\n",
       "      <td>0.2</td>\n",
       "    </tr>\n",
       "    <tr>\n",
       "      <th>1</th>\n",
       "      <td>4.9</td>\n",
       "      <td>3.0</td>\n",
       "      <td>1.4</td>\n",
       "      <td>0.2</td>\n",
       "    </tr>\n",
       "    <tr>\n",
       "      <th>2</th>\n",
       "      <td>4.7</td>\n",
       "      <td>3.2</td>\n",
       "      <td>1.3</td>\n",
       "      <td>0.2</td>\n",
       "    </tr>\n",
       "    <tr>\n",
       "      <th>3</th>\n",
       "      <td>4.6</td>\n",
       "      <td>3.1</td>\n",
       "      <td>1.5</td>\n",
       "      <td>0.2</td>\n",
       "    </tr>\n",
       "    <tr>\n",
       "      <th>4</th>\n",
       "      <td>5.0</td>\n",
       "      <td>3.6</td>\n",
       "      <td>1.4</td>\n",
       "      <td>0.2</td>\n",
       "    </tr>\n",
       "  </tbody>\n",
       "</table>\n",
       "</div>"
      ],
      "text/plain": [
       "   SepalLengthCm  SepalWidthCm  PetalLengthCm  PetalWidthCm\n",
       "0            5.1           3.5            1.4           0.2\n",
       "1            4.9           3.0            1.4           0.2\n",
       "2            4.7           3.2            1.3           0.2\n",
       "3            4.6           3.1            1.5           0.2\n",
       "4            5.0           3.6            1.4           0.2"
      ]
     },
     "execution_count": 12,
     "metadata": {},
     "output_type": "execute_result"
    }
   ],
   "source": [
    "df.head()"
   ]
  },
  {
   "cell_type": "code",
   "execution_count": 13,
   "id": "411e58cf",
   "metadata": {},
   "outputs": [
    {
     "data": {
      "text/plain": [
       "array([[5.1 , 3.5 , 1.4 , 0.2 ],\n",
       "       [4.9 , 3.  , 1.4 , 0.2 ],\n",
       "       [4.7 , 3.2 , 1.3 , 0.2 ],\n",
       "       [4.6 , 3.1 , 1.5 , 0.2 ],\n",
       "       [5.  , 3.6 , 1.4 , 0.2 ],\n",
       "       [5.4 , 3.9 , 1.7 , 0.4 ],\n",
       "       [4.6 , 3.4 , 1.4 , 0.3 ],\n",
       "       [5.  , 3.4 , 1.5 , 0.2 ],\n",
       "       [4.4 , 2.9 , 1.4 , 0.2 ],\n",
       "       [4.9 , 3.1 , 1.5 , 0.1 ],\n",
       "       [5.4 , 3.7 , 1.5 , 0.2 ],\n",
       "       [4.8 , 3.4 , 1.6 , 0.2 ],\n",
       "       [4.8 , 3.  , 1.4 , 0.1 ],\n",
       "       [4.3 , 3.  , 1.1 , 0.1 ],\n",
       "       [5.8 , 4.  , 1.2 , 0.2 ],\n",
       "       [5.7 , 4.05, 1.5 , 0.4 ],\n",
       "       [5.4 , 3.9 , 1.3 , 0.4 ],\n",
       "       [5.1 , 3.5 , 1.4 , 0.3 ],\n",
       "       [5.7 , 3.8 , 1.7 , 0.3 ],\n",
       "       [5.1 , 3.8 , 1.5 , 0.3 ],\n",
       "       [5.4 , 3.4 , 1.7 , 0.2 ],\n",
       "       [5.1 , 3.7 , 1.5 , 0.4 ],\n",
       "       [4.6 , 3.6 , 1.  , 0.2 ],\n",
       "       [5.1 , 3.3 , 1.7 , 0.5 ],\n",
       "       [4.8 , 3.4 , 1.9 , 0.2 ],\n",
       "       [5.  , 3.  , 1.6 , 0.2 ],\n",
       "       [5.  , 3.4 , 1.6 , 0.4 ],\n",
       "       [5.2 , 3.5 , 1.5 , 0.2 ],\n",
       "       [5.2 , 3.4 , 1.4 , 0.2 ],\n",
       "       [4.7 , 3.2 , 1.6 , 0.2 ],\n",
       "       [4.8 , 3.1 , 1.6 , 0.2 ],\n",
       "       [5.4 , 3.4 , 1.5 , 0.4 ],\n",
       "       [5.2 , 4.05, 1.5 , 0.1 ],\n",
       "       [5.5 , 4.05, 1.4 , 0.2 ],\n",
       "       [4.9 , 3.1 , 1.5 , 0.1 ],\n",
       "       [5.  , 3.2 , 1.2 , 0.2 ],\n",
       "       [5.5 , 3.5 , 1.3 , 0.2 ],\n",
       "       [4.9 , 3.1 , 1.5 , 0.1 ],\n",
       "       [4.4 , 3.  , 1.3 , 0.2 ],\n",
       "       [5.1 , 3.4 , 1.5 , 0.2 ],\n",
       "       [5.  , 3.5 , 1.3 , 0.3 ],\n",
       "       [4.5 , 2.3 , 1.3 , 0.3 ],\n",
       "       [4.4 , 3.2 , 1.3 , 0.2 ],\n",
       "       [5.  , 3.5 , 1.6 , 0.6 ],\n",
       "       [5.1 , 3.8 , 1.9 , 0.4 ],\n",
       "       [4.8 , 3.  , 1.4 , 0.3 ],\n",
       "       [5.1 , 3.8 , 1.6 , 0.2 ],\n",
       "       [4.6 , 3.2 , 1.4 , 0.2 ],\n",
       "       [5.3 , 3.7 , 1.5 , 0.2 ],\n",
       "       [5.  , 3.3 , 1.4 , 0.2 ],\n",
       "       [7.  , 3.2 , 4.7 , 1.4 ],\n",
       "       [6.4 , 3.2 , 4.5 , 1.5 ],\n",
       "       [6.9 , 3.1 , 4.9 , 1.5 ],\n",
       "       [5.5 , 2.3 , 4.  , 1.3 ],\n",
       "       [6.5 , 2.8 , 4.6 , 1.5 ],\n",
       "       [5.7 , 2.8 , 4.5 , 1.3 ],\n",
       "       [6.3 , 3.3 , 4.7 , 1.6 ],\n",
       "       [4.9 , 2.4 , 3.3 , 1.  ],\n",
       "       [6.6 , 2.9 , 4.6 , 1.3 ],\n",
       "       [5.2 , 2.7 , 3.9 , 1.4 ],\n",
       "       [5.  , 2.05, 3.5 , 1.  ],\n",
       "       [5.9 , 3.  , 4.2 , 1.5 ],\n",
       "       [6.  , 2.2 , 4.  , 1.  ],\n",
       "       [6.1 , 2.9 , 4.7 , 1.4 ],\n",
       "       [5.6 , 2.9 , 3.6 , 1.3 ],\n",
       "       [6.7 , 3.1 , 4.4 , 1.4 ],\n",
       "       [5.6 , 3.  , 4.5 , 1.5 ],\n",
       "       [5.8 , 2.7 , 4.1 , 1.  ],\n",
       "       [6.2 , 2.2 , 4.5 , 1.5 ],\n",
       "       [5.6 , 2.5 , 3.9 , 1.1 ],\n",
       "       [5.9 , 3.2 , 4.8 , 1.8 ],\n",
       "       [6.1 , 2.8 , 4.  , 1.3 ],\n",
       "       [6.3 , 2.5 , 4.9 , 1.5 ],\n",
       "       [6.1 , 2.8 , 4.7 , 1.2 ],\n",
       "       [6.4 , 2.9 , 4.3 , 1.3 ],\n",
       "       [6.6 , 3.  , 4.4 , 1.4 ],\n",
       "       [6.8 , 2.8 , 4.8 , 1.4 ],\n",
       "       [6.7 , 3.  , 5.  , 1.7 ],\n",
       "       [6.  , 2.9 , 4.5 , 1.5 ],\n",
       "       [5.7 , 2.6 , 3.5 , 1.  ],\n",
       "       [5.5 , 2.4 , 3.8 , 1.1 ],\n",
       "       [5.5 , 2.4 , 3.7 , 1.  ],\n",
       "       [5.8 , 2.7 , 3.9 , 1.2 ],\n",
       "       [6.  , 2.7 , 5.1 , 1.6 ],\n",
       "       [5.4 , 3.  , 4.5 , 1.5 ],\n",
       "       [6.  , 3.4 , 4.5 , 1.6 ],\n",
       "       [6.7 , 3.1 , 4.7 , 1.5 ],\n",
       "       [6.3 , 2.3 , 4.4 , 1.3 ],\n",
       "       [5.6 , 3.  , 4.1 , 1.3 ],\n",
       "       [5.5 , 2.5 , 4.  , 1.3 ],\n",
       "       [5.5 , 2.6 , 4.4 , 1.2 ],\n",
       "       [6.1 , 3.  , 4.6 , 1.4 ],\n",
       "       [5.8 , 2.6 , 4.  , 1.2 ],\n",
       "       [5.  , 2.3 , 3.3 , 1.  ],\n",
       "       [5.6 , 2.7 , 4.2 , 1.3 ],\n",
       "       [5.7 , 3.  , 4.2 , 1.2 ],\n",
       "       [5.7 , 2.9 , 4.2 , 1.3 ],\n",
       "       [6.2 , 2.9 , 4.3 , 1.3 ],\n",
       "       [5.1 , 2.5 , 3.  , 1.1 ],\n",
       "       [5.7 , 2.8 , 4.1 , 1.3 ],\n",
       "       [6.3 , 3.3 , 6.  , 2.5 ],\n",
       "       [5.8 , 2.7 , 5.1 , 1.9 ],\n",
       "       [7.1 , 3.  , 5.9 , 2.1 ],\n",
       "       [6.3 , 2.9 , 5.6 , 1.8 ],\n",
       "       [6.5 , 3.  , 5.8 , 2.2 ],\n",
       "       [7.6 , 3.  , 6.6 , 2.1 ],\n",
       "       [4.9 , 2.5 , 4.5 , 1.7 ],\n",
       "       [7.3 , 2.9 , 6.3 , 1.8 ],\n",
       "       [6.7 , 2.5 , 5.8 , 1.8 ],\n",
       "       [7.2 , 3.6 , 6.1 , 2.5 ],\n",
       "       [6.5 , 3.2 , 5.1 , 2.  ],\n",
       "       [6.4 , 2.7 , 5.3 , 1.9 ],\n",
       "       [6.8 , 3.  , 5.5 , 2.1 ],\n",
       "       [5.7 , 2.5 , 5.  , 2.  ],\n",
       "       [5.8 , 2.8 , 5.1 , 2.4 ],\n",
       "       [6.4 , 3.2 , 5.3 , 2.3 ],\n",
       "       [6.5 , 3.  , 5.5 , 1.8 ],\n",
       "       [7.7 , 3.8 , 6.7 , 2.2 ],\n",
       "       [7.7 , 2.6 , 6.9 , 2.3 ],\n",
       "       [6.  , 2.2 , 5.  , 1.5 ],\n",
       "       [6.9 , 3.2 , 5.7 , 2.3 ],\n",
       "       [5.6 , 2.8 , 4.9 , 2.  ],\n",
       "       [7.7 , 2.8 , 6.7 , 2.  ],\n",
       "       [6.3 , 2.7 , 4.9 , 1.8 ],\n",
       "       [6.7 , 3.3 , 5.7 , 2.1 ],\n",
       "       [7.2 , 3.2 , 6.  , 1.8 ],\n",
       "       [6.2 , 2.8 , 4.8 , 1.8 ],\n",
       "       [6.1 , 3.  , 4.9 , 1.8 ],\n",
       "       [6.4 , 2.8 , 5.6 , 2.1 ],\n",
       "       [7.2 , 3.  , 5.8 , 1.6 ],\n",
       "       [7.4 , 2.8 , 6.1 , 1.9 ],\n",
       "       [7.9 , 3.8 , 6.4 , 2.  ],\n",
       "       [6.4 , 2.8 , 5.6 , 2.2 ],\n",
       "       [6.3 , 2.8 , 5.1 , 1.5 ],\n",
       "       [6.1 , 2.6 , 5.6 , 1.4 ],\n",
       "       [7.7 , 3.  , 6.1 , 2.3 ],\n",
       "       [6.3 , 3.4 , 5.6 , 2.4 ],\n",
       "       [6.4 , 3.1 , 5.5 , 1.8 ],\n",
       "       [6.  , 3.  , 4.8 , 1.8 ],\n",
       "       [6.9 , 3.1 , 5.4 , 2.1 ],\n",
       "       [6.7 , 3.1 , 5.6 , 2.4 ],\n",
       "       [6.9 , 3.1 , 5.1 , 2.3 ],\n",
       "       [5.8 , 2.7 , 5.1 , 1.9 ],\n",
       "       [6.8 , 3.2 , 5.9 , 2.3 ],\n",
       "       [6.7 , 3.3 , 5.7 , 2.5 ],\n",
       "       [6.7 , 3.  , 5.2 , 2.3 ],\n",
       "       [6.3 , 2.5 , 5.  , 1.9 ],\n",
       "       [6.5 , 3.  , 5.2 , 2.  ],\n",
       "       [6.2 , 3.4 , 5.4 , 2.3 ],\n",
       "       [5.9 , 3.  , 5.1 , 1.8 ]])"
      ]
     },
     "execution_count": 13,
     "metadata": {},
     "output_type": "execute_result"
    }
   ],
   "source": [
    "samples = df.values\n",
    "samples"
   ]
  },
  {
   "cell_type": "markdown",
   "id": "860baecf",
   "metadata": {},
   "source": [
    "## Check Value of K"
   ]
  },
  {
   "cell_type": "code",
   "execution_count": 14,
   "id": "8da2b703",
   "metadata": {},
   "outputs": [],
   "source": [
    "from sklearn.cluster import KMeans\n",
    "from yellowbrick.cluster import KElbowVisualizer"
   ]
  },
  {
   "cell_type": "code",
   "execution_count": 15,
   "id": "47764646",
   "metadata": {},
   "outputs": [],
   "source": [
    "km = KMeans(random_state=42)"
   ]
  },
  {
   "cell_type": "code",
   "execution_count": 16,
   "id": "4e42c6c7",
   "metadata": {},
   "outputs": [],
   "source": [
    "visualizer = KElbowVisualizer(km, k=(1,10))"
   ]
  },
  {
   "cell_type": "code",
   "execution_count": 17,
   "id": "f555c387",
   "metadata": {},
   "outputs": [
    {
     "data": {
      "image/png": "[encoded data removed]",
      "text/plain": [
       "<Figure size 800x550 with 2 Axes>"
      ]
     },
     "metadata": {},
     "output_type": "display_data"
    },
    {
     "data": {
      "text/plain": [
       "<Axes: title={'center': 'Distortion Score Elbow for KMeans Clustering'}, xlabel='k', ylabel='distortion score'>"
      ]
     },
     "execution_count": 17,
     "metadata": {},
     "output_type": "execute_result"
    }
   ],
   "source": [
    "visualizer.fit(samples)       \n",
    "visualizer.show()"
   ]
  },
  {
   "cell_type": "code",
   "execution_count": 18,
   "id": "6daa1638",
   "metadata": {},
   "outputs": [],
   "source": [
    "model2 = KMeans(n_clusters=3,max_iter=100)"
   ]
  },
  {
   "cell_type": "code",
   "execution_count": 19,
   "id": "aeda2d7b",
   "metadata": {},
   "outputs": [
    {
     "data": {
      "text/html": [
       "<div>\n",
       "<style scoped>\n",
       "    .dataframe tbody tr th:only-of-type {\n",
       "        vertical-align: middle;\n",
       "    }\n",
       "\n",
       "    .dataframe tbody tr th {\n",
       "        vertical-align: top;\n",
       "    }\n",
       "\n",
       "    .dataframe thead th {\n",
       "        text-align: right;\n",
       "    }\n",
       "</style>\n",
       "<table border=\"1\" class=\"dataframe\">\n",
       "  <thead>\n",
       "    <tr style=\"text-align: right;\">\n",
       "      <th></th>\n",
       "      <th>SepalLengthCm</th>\n",
       "      <th>SepalWidthCm</th>\n",
       "      <th>PetalLengthCm</th>\n",
       "      <th>PetalWidthCm</th>\n",
       "      <th>Cluster_Made</th>\n",
       "    </tr>\n",
       "  </thead>\n",
       "  <tbody>\n",
       "    <tr>\n",
       "      <th>0</th>\n",
       "      <td>5.1</td>\n",
       "      <td>3.5</td>\n",
       "      <td>1.4</td>\n",
       "      <td>0.2</td>\n",
       "      <td>0</td>\n",
       "    </tr>\n",
       "    <tr>\n",
       "      <th>1</th>\n",
       "      <td>4.9</td>\n",
       "      <td>3.0</td>\n",
       "      <td>1.4</td>\n",
       "      <td>0.2</td>\n",
       "      <td>0</td>\n",
       "    </tr>\n",
       "    <tr>\n",
       "      <th>2</th>\n",
       "      <td>4.7</td>\n",
       "      <td>3.2</td>\n",
       "      <td>1.3</td>\n",
       "      <td>0.2</td>\n",
       "      <td>0</td>\n",
       "    </tr>\n",
       "    <tr>\n",
       "      <th>3</th>\n",
       "      <td>4.6</td>\n",
       "      <td>3.1</td>\n",
       "      <td>1.5</td>\n",
       "      <td>0.2</td>\n",
       "      <td>0</td>\n",
       "    </tr>\n",
       "    <tr>\n",
       "      <th>4</th>\n",
       "      <td>5.0</td>\n",
       "      <td>3.6</td>\n",
       "      <td>1.4</td>\n",
       "      <td>0.2</td>\n",
       "      <td>0</td>\n",
       "    </tr>\n",
       "  </tbody>\n",
       "</table>\n",
       "</div>"
      ],
      "text/plain": [
       "   SepalLengthCm  SepalWidthCm  PetalLengthCm  PetalWidthCm  Cluster_Made\n",
       "0            5.1           3.5            1.4           0.2             0\n",
       "1            4.9           3.0            1.4           0.2             0\n",
       "2            4.7           3.2            1.3           0.2             0\n",
       "3            4.6           3.1            1.5           0.2             0\n",
       "4            5.0           3.6            1.4           0.2             0"
      ]
     },
     "execution_count": 19,
     "metadata": {},
     "output_type": "execute_result"
    }
   ],
   "source": [
    "df['Cluster_Made'] = model2.fit_predict(samples)\n",
    "df.head()"
   ]
  },
  {
   "cell_type": "code",
   "execution_count": 20,
   "id": "945cc06d",
   "metadata": {},
   "outputs": [
    {
     "data": {
      "text/plain": [
       "array([[5.006     , 3.407     , 1.464     , 0.244     ],\n",
       "       [5.9016129 , 2.74919355, 4.39354839, 1.43387097],\n",
       "       [6.85      , 3.07368421, 5.74210526, 2.07105263]])"
      ]
     },
     "execution_count": 20,
     "metadata": {},
     "output_type": "execute_result"
    }
   ],
   "source": [
    "model2.cluster_centers_"
   ]
  },
  {
   "cell_type": "code",
   "execution_count": 21,
   "id": "5065ce4d",
   "metadata": {},
   "outputs": [
    {
     "data": {
      "text/plain": [
       "1    62\n",
       "0    50\n",
       "2    38\n",
       "Name: Cluster_Made, dtype: int64"
      ]
     },
     "execution_count": 21,
     "metadata": {},
     "output_type": "execute_result"
    }
   ],
   "source": [
    "df.Cluster_Made.value_counts(ascending=False)"
   ]
  },
  {
   "cell_type": "code",
   "execution_count": 22,
   "id": "89117e9b",
   "metadata": {},
   "outputs": [
    {
     "data": {
      "text/plain": [
       "<matplotlib.legend.Legend at 0x22f786b5010>"
      ]
     },
     "execution_count": 22,
     "metadata": {},
     "output_type": "execute_result"
    },
    {
     "data": {
      "image/png": "[encoded data removed]",
      "text/plain": [
       "<Figure size 800x550 with 1 Axes>"
      ]
     },
     "metadata": {},
     "output_type": "display_data"
    }
   ],
   "source": [
    "# Visualising the clusters - On the first two columns\n",
    "plt.scatter(samples[df['Cluster_Made'] == 0, 0], samples[df['Cluster_Made'] == 0, 1], \n",
    "            s = 100, c = 'red', label = 'Iris-setosa')\n",
    "plt.scatter(samples[df['Cluster_Made'] == 1, 0], samples[df['Cluster_Made'] == 1, 1], \n",
    "            s = 100, c = 'blue', label = 'Iris-versicolour')\n",
    "plt.scatter(samples[df['Cluster_Made'] == 2, 0], samples[df['Cluster_Made'] == 2, 1],\n",
    "            s = 100, c = 'green', label = 'Iris-virginica')\n",
    "\n",
    "# Plotting the centroids of the clusters\n",
    "plt.scatter(model2.cluster_centers_[:, 0], model2.cluster_centers_[:,1], \n",
    "            s = 100, c = 'yellow', label = 'Centroids')\n",
    "\n",
    "plt.legend()"
   ]
  }
 ],
 "metadata": {
  "kernelspec": {
   "display_name": "Python 3 (ipykernel)",
   "language": "python",
   "name": "python3"
  },
  "language_info": {
   "codemirror_mode": {
    "name": "ipython",
    "version": 3
   },
   "file_extension": ".py",
   "mimetype": "text/x-python",
   "name": "python",
   "nbconvert_exporter": "python",
   "pygments_lexer": "ipython3",
   "version": "3.9.12"
  }
 },
 "nbformat": 4,
 "nbformat_minor": 5
}
